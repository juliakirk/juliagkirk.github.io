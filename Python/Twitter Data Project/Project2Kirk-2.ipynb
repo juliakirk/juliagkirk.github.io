{
 "cells": [
  {
   "cell_type": "code",
   "execution_count": 1,
   "id": "b1d82763",
   "metadata": {},
   "outputs": [],
   "source": [
    "import csv \n",
    "#function to get list of users in a csv file\n",
    "def listOfUsers(tweetFile):\n",
    "    #initlize varriables\n",
    "    users = []\n",
    "    #open file\n",
    "    fileHandle = open(tweetFile,\"r\")\n",
    "    csvReader = csv.reader(fileHandle)\n",
    "    header = next(csvReader)\n",
    "    #read through file line by line \n",
    "    for line in csvReader:\n",
    "        #check if username is a new username\n",
    "        if(line[0] not in users):\n",
    "            #add to list of users \n",
    "            users.append(line[0])\n",
    "    return users"
   ]
  },
  {
   "cell_type": "code",
   "execution_count": 2,
   "id": "e7d58117",
   "metadata": {},
   "outputs": [],
   "source": [
    "def getUserTweetStuff(userName, tweetFile, tweetStuff):\n",
    "    #generate list of users with listOfUsers function\n",
    "    users = listOfUsers(tweetFile)\n",
    "    #set varriables\n",
    "    otherWordsList = []\n",
    "    hashtagsList = []\n",
    "    mentionsList = []\n",
    "    #open file\n",
    "    fileHandle = open(tweetFile, \"r\")\n",
    "    csvReader = csv.reader(fileHandle)\n",
    "    header = next(csvReader)\n",
    "    #read through csv line by line\n",
    "    for line in csvReader:\n",
    "        #check if username matches\n",
    "        if(line[0] == userName):\n",
    "            splitLine = line[2].split()\n",
    "            #go through tweetcontents line by line\n",
    "            for i in splitLine:\n",
    "                #if first character is @ add to mentions\n",
    "                if(i[0] == \"@\"):\n",
    "                    mentionsList.append(i)\n",
    "                #if first character is # add to hashtags\n",
    "                elif(i[0] == \"#\"):\n",
    "                    hashtagsList.append(i)\n",
    "                #else add to other words\n",
    "                else:\n",
    "                    otherWordsList.append(i)\n",
    "    #check if username requested is in file\n",
    "    if(userName not in users):\n",
    "        print(\"No tweets from \" + userName + \" found in \"+ tweetFile +\".\")\n",
    "        return \"None\"\n",
    "    else:\n",
    "        #return list\n",
    "        if(tweetStuff == \"mentions\"):\n",
    "            return mentionsList\n",
    "        elif(tweetStuff == \"hashtags\"):\n",
    "            return hashtagsList\n",
    "        elif(tweetStuff == \"otherWords\"):\n",
    "            return otherWordsList"
   ]
  },
  {
   "cell_type": "code",
   "execution_count": 3,
   "id": "8266644b",
   "metadata": {},
   "outputs": [],
   "source": [
    "def findSubstringInTweets(userName,tweetFile, substring):\n",
    "    #initlize counter\n",
    "    counter = 0\n",
    "    lowerSub = substring.lower()\n",
    "    #open file\n",
    "    fileHandle = open(tweetFile, \"r\")\n",
    "    csvReader = csv.reader(fileHandle)\n",
    "    header = next(csvReader)\n",
    "    #go through line by line and check for substring contents\n",
    "    for line in csvReader:\n",
    "        if(line[0] == userName):\n",
    "            textContents = line[2].lower()\n",
    "            #increse counter by number of times item found\n",
    "            counter += textContents.count(lowerSub)\n",
    "    #print out message \n",
    "    print(substring + \" was found \" + str(counter) +\" times in tweets written by \"+userName+\".\")"
   ]
  },
  {
   "cell_type": "code",
   "execution_count": 4,
   "id": "f877d65c",
   "metadata": {},
   "outputs": [
    {
     "name": "stdout",
     "output_type": "stream",
     "text": [
      "COVID was found 44 times in tweets written by ChrisMurphyCT.\n"
     ]
    }
   ],
   "source": [
    "#test case 1\n",
    "user1Hashtags = getUserTweetStuff(\"ChrisMurphyCT\",\"Tweets-2020.csv\",\"hashtags\")\n",
    "user1Mentions = getUserTweetStuff(\"ChrisMurphyCT\",\"Tweets-2020.csv\",\"mentions\")\n",
    "user1OtherWords =getUserTweetStuff(\"ChrisMurphyCT\",\"Tweets-2020.csv\",\"otherWords\")\n",
    "findSubstringInTweets(\"ChrisMurphyCT\", \"Tweets-2020.csv\", \"COVID\")"
   ]
  },
  {
   "cell_type": "code",
   "execution_count": 5,
   "id": "b2bab004",
   "metadata": {},
   "outputs": [
    {
     "name": "stdout",
     "output_type": "stream",
     "text": [
      "Amy Coney Barrett was found 8 times in tweets written by ChrisCoons.\n"
     ]
    }
   ],
   "source": [
    "#test case 2\n",
    "user2Hashtags = getUserTweetStuff(\"ChrisCoons\",\"Tweets-2020.csv\",\"hashtags\")\n",
    "user2Mentions = getUserTweetStuff(\"ChrisCoons\",\"Tweets-2020.csv\",\"mentions\")\n",
    "user2OtherWords = getUserTweetStuff(\"ChrisCoons\",\"Tweets-2020.csv\",\"otherWords\")\n",
    "findSubstringInTweets(\"ChrisCoons\", \"Tweets-2020.csv\", \"Amy Coney Barrett\")"
   ]
  },
  {
   "cell_type": "code",
   "execution_count": 6,
   "id": "7c8808f2",
   "metadata": {},
   "outputs": [
    {
     "name": "stdout",
     "output_type": "stream",
     "text": [
      "Hawaii was found 83 times in tweets written by maziehirono.\n"
     ]
    }
   ],
   "source": [
    "#test case 3\n",
    "user3Hashtags = getUserTweetStuff(\"maziehirono\",\"Tweets-2020.csv\",\"hashtags\")\n",
    "user3Mentions = getUserTweetStuff(\"maziehirono\",\"Tweets-2020.csv\",\"mentions\")\n",
    "user3OtherWords = getUserTweetStuff(\"maziehirono\",\"Tweets-2020.csv\",\"otherWords\")\n",
    "findSubstringInTweets(\"maziehirono\", \"Tweets-2020.csv\", \"Hawaii\")"
   ]
  },
  {
   "cell_type": "code",
   "execution_count": 7,
   "id": "64ab3745",
   "metadata": {},
   "outputs": [
    {
     "name": "stdout",
     "output_type": "stream",
     "text": [
      "business was found 152 times in tweets written by SenatorRisch.\n"
     ]
    }
   ],
   "source": [
    "#test case 4\n",
    "user4Hashtags = getUserTweetStuff(\"SenatorRisch\",\"Tweets-2020.csv\",\"hashtags\")\n",
    "user4Mentions = getUserTweetStuff(\"SenatorRisch\",\"Tweets-2020.csv\",\"mentions\")\n",
    "user4OtherWords = getUserTweetStuff(\"SenatorRisch\",\"Tweets-2020.csv\",\"otherWords\")\n",
    "findSubstringInTweets(\"SenatorRisch\", \"Tweets-2020.csv\", \"business\")"
   ]
  },
  {
   "cell_type": "code",
   "execution_count": 8,
   "id": "66d09e17",
   "metadata": {},
   "outputs": [
    {
     "name": "stdout",
     "output_type": "stream",
     "text": [
      "No tweets from POTUS found in Tweets-2020.csv.\n",
      "No tweets from POTUS found in Tweets-2020.csv.\n",
      "No tweets from POTUS found in Tweets-2020.csv.\n"
     ]
    }
   ],
   "source": [
    "#test case 5(not in file)\n",
    "user4Hashtags = getUserTweetStuff(\"POTUS\",\"Tweets-2020.csv\",\"hashtags\")\n",
    "user4Mentions = getUserTweetStuff(\"POTUS\",\"Tweets-2020.csv\",\"mentions\")\n",
    "user4OtherWords = getUserTweetStuff(\"POTUS\",\"Tweets-2020.csv\",\"otherWords\")"
   ]
  }
 ],
 "metadata": {
  "kernelspec": {
   "display_name": "Python 3 (ipykernel)",
   "language": "python",
   "name": "python3"
  },
  "language_info": {
   "codemirror_mode": {
    "name": "ipython",
    "version": 3
   },
   "file_extension": ".py",
   "mimetype": "text/x-python",
   "name": "python",
   "nbconvert_exporter": "python",
   "pygments_lexer": "ipython3",
   "version": "3.9.13"
  }
 },
 "nbformat": 4,
 "nbformat_minor": 5
}
