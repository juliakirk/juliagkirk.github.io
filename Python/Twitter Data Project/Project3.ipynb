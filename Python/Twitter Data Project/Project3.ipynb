{
 "cells": [
  {
   "cell_type": "code",
   "execution_count": 2,
   "id": "03babd14",
   "metadata": {},
   "outputs": [],
   "source": [
    "import csv\n",
    "def getTweetPartisanDeets(tweetFile):\n",
    "    #initlize dictonary\n",
    "    partyDict ={ \"democrats\": 0, \"republicans\":0}\n",
    "    #open file\n",
    "    fileHandle = open(tweetFile, \"r\")\n",
    "    csvReader = csv.reader(fileHandle)\n",
    "    header = next(csvReader)\n",
    "    #go throgh line by line and check party\n",
    "    for line in csvReader:\n",
    "        #increse party counter\n",
    "        if (line[1] == \"D\"):\n",
    "            partyDict[\"democrats\"] += 1\n",
    "        elif(line[1] == \"R\"):\n",
    "            partyDict[\"republicans\"] += 1\n",
    "    return partyDict"
   ]
  },
  {
   "cell_type": "code",
   "execution_count": 3,
   "id": "6cd48225",
   "metadata": {},
   "outputs": [],
   "source": [
    "def getUserTweetDetails(tweetFile,twitterUsername):\n",
    "    #initilize\n",
    "    mentions = []\n",
    "    hashtags = []\n",
    "    #open file\n",
    "    fileHandle = open(tweetFile, \"r\")\n",
    "    csvReader = csv.reader(fileHandle)\n",
    "    header = next(csvReader)\n",
    "    #go through line by line\n",
    "    for line in csvReader:\n",
    "        if(line[0] == twitterUsername):\n",
    "            splitLine = line[2].split()\n",
    "            #check for hashtags/ mentions then add to list\n",
    "            for i in splitLine:\n",
    "                if(i[0] == \"@\"):\n",
    "                    mentions.append(i)\n",
    "                elif(i[0] == \"#\"):\n",
    "                    hashtags.append(i)\n",
    "    #create dictonary\n",
    "    contentDict = {\"mentions\": mentions, \"hashtags\":hashtags}\n",
    "    return contentDict"
   ]
  },
  {
   "cell_type": "code",
   "execution_count": 4,
   "id": "63cc17ab",
   "metadata": {},
   "outputs": [],
   "source": [
    "def getPartyUserTwitterUsage(tweetFile):\n",
    "    democrats = {}\n",
    "    republicans = {}\n",
    "    fileHandle = open(tweetFile, \"r\")\n",
    "    csvReader = csv.reader(fileHandle)\n",
    "    header = next(csvReader)\n",
    "    for line in csvReader:\n",
    "        if(line[1] == \"D\"):\n",
    "            print(line[0])\n",
    "            if line[0] in democrats:\n",
    "                democrats[line[0]]+= 1\n",
    "            else:\n",
    "                democrats[line[0]] =1\n",
    "        elif(line[1] == \"R\"):\n",
    "            if line[0] in republicans:\n",
    "                republicans[line[0]]+= 1\n",
    "            else:\n",
    "                republicans[line[0]] =1\n",
    "    parties = {\"Republicans\": republicans, \"Democrats\":democrats}\n",
    "    return parties"
   ]
  },
  {
   "cell_type": "code",
   "execution_count": 5,
   "id": "7a678134",
   "metadata": {},
   "outputs": [],
   "source": [
    "def tweetAmounts(filename, user):\n",
    "    info = getUserTweetDetails(filename,user)\n",
    "    ment =info[\"mentions\"]\n",
    "    hashtag = info[\"hashtags\"]\n",
    "    print(\"Mentions: \"+ str(len(ment)))\n",
    "    print(\"Hashtags: \" + str(len(hashtag)))"
   ]
  },
  {
   "cell_type": "code",
   "execution_count": 6,
   "id": "9cc4727d",
   "metadata": {},
   "outputs": [
    {
     "ename": "FileNotFoundError",
     "evalue": "[Errno 2] No such file or directory: 'Tweets-2020.csv'",
     "output_type": "error",
     "traceback": [
      "\u001b[0;31m---------------------------------------------------------------------------\u001b[0m",
      "\u001b[0;31mFileNotFoundError\u001b[0m                         Traceback (most recent call last)",
      "Cell \u001b[0;32mIn[6], line 1\u001b[0m\n\u001b[0;32m----> 1\u001b[0m \u001b[43mgetTweetPartisanDeets\u001b[49m\u001b[43m(\u001b[49m\u001b[38;5;124;43m\"\u001b[39;49m\u001b[38;5;124;43mTweets-2020.csv\u001b[39;49m\u001b[38;5;124;43m\"\u001b[39;49m\u001b[43m)\u001b[49m\n",
      "Cell \u001b[0;32mIn[2], line 6\u001b[0m, in \u001b[0;36mgetTweetPartisanDeets\u001b[0;34m(tweetFile)\u001b[0m\n\u001b[1;32m      4\u001b[0m partyDict \u001b[38;5;241m=\u001b[39m{ \u001b[38;5;124m\"\u001b[39m\u001b[38;5;124mdemocrats\u001b[39m\u001b[38;5;124m\"\u001b[39m: \u001b[38;5;241m0\u001b[39m, \u001b[38;5;124m\"\u001b[39m\u001b[38;5;124mrepublicans\u001b[39m\u001b[38;5;124m\"\u001b[39m:\u001b[38;5;241m0\u001b[39m}\n\u001b[1;32m      5\u001b[0m \u001b[38;5;66;03m#open file\u001b[39;00m\n\u001b[0;32m----> 6\u001b[0m fileHandle \u001b[38;5;241m=\u001b[39m \u001b[38;5;28;43mopen\u001b[39;49m\u001b[43m(\u001b[49m\u001b[43mtweetFile\u001b[49m\u001b[43m,\u001b[49m\u001b[43m \u001b[49m\u001b[38;5;124;43m\"\u001b[39;49m\u001b[38;5;124;43mr\u001b[39;49m\u001b[38;5;124;43m\"\u001b[39;49m\u001b[43m)\u001b[49m\n\u001b[1;32m      7\u001b[0m csvReader \u001b[38;5;241m=\u001b[39m csv\u001b[38;5;241m.\u001b[39mreader(fileHandle)\n\u001b[1;32m      8\u001b[0m header \u001b[38;5;241m=\u001b[39m \u001b[38;5;28mnext\u001b[39m(csvReader)\n",
      "File \u001b[0;32m~/opt/anaconda3/lib/python3.9/site-packages/IPython/core/interactiveshell.py:284\u001b[0m, in \u001b[0;36m_modified_open\u001b[0;34m(file, *args, **kwargs)\u001b[0m\n\u001b[1;32m    277\u001b[0m \u001b[38;5;28;01mif\u001b[39;00m file \u001b[38;5;129;01min\u001b[39;00m {\u001b[38;5;241m0\u001b[39m, \u001b[38;5;241m1\u001b[39m, \u001b[38;5;241m2\u001b[39m}:\n\u001b[1;32m    278\u001b[0m     \u001b[38;5;28;01mraise\u001b[39;00m \u001b[38;5;167;01mValueError\u001b[39;00m(\n\u001b[1;32m    279\u001b[0m         \u001b[38;5;124mf\u001b[39m\u001b[38;5;124m\"\u001b[39m\u001b[38;5;124mIPython won\u001b[39m\u001b[38;5;124m'\u001b[39m\u001b[38;5;124mt let you open fd=\u001b[39m\u001b[38;5;132;01m{\u001b[39;00mfile\u001b[38;5;132;01m}\u001b[39;00m\u001b[38;5;124m by default \u001b[39m\u001b[38;5;124m\"\u001b[39m\n\u001b[1;32m    280\u001b[0m         \u001b[38;5;124m\"\u001b[39m\u001b[38;5;124mas it is likely to crash IPython. If you know what you are doing, \u001b[39m\u001b[38;5;124m\"\u001b[39m\n\u001b[1;32m    281\u001b[0m         \u001b[38;5;124m\"\u001b[39m\u001b[38;5;124myou can use builtins\u001b[39m\u001b[38;5;124m'\u001b[39m\u001b[38;5;124m open.\u001b[39m\u001b[38;5;124m\"\u001b[39m\n\u001b[1;32m    282\u001b[0m     )\n\u001b[0;32m--> 284\u001b[0m \u001b[38;5;28;01mreturn\u001b[39;00m \u001b[43mio_open\u001b[49m\u001b[43m(\u001b[49m\u001b[43mfile\u001b[49m\u001b[43m,\u001b[49m\u001b[43m \u001b[49m\u001b[38;5;241;43m*\u001b[39;49m\u001b[43margs\u001b[49m\u001b[43m,\u001b[49m\u001b[43m \u001b[49m\u001b[38;5;241;43m*\u001b[39;49m\u001b[38;5;241;43m*\u001b[39;49m\u001b[43mkwargs\u001b[49m\u001b[43m)\u001b[49m\n",
      "\u001b[0;31mFileNotFoundError\u001b[0m: [Errno 2] No such file or directory: 'Tweets-2020.csv'"
     ]
    }
   ],
   "source": [
    "getTweetPartisanDeets(\"Tweets-2020.csv\")"
   ]
  },
  {
   "cell_type": "code",
   "execution_count": null,
   "id": "c60c4e04",
   "metadata": {},
   "outputs": [],
   "source": [
    "getUserTweetDetails(\"Tweets-2020.csv\",\"SenBlumenthal\")\n",
    "tweetAmounts(\"Tweets-2020.csv\", \"SenBlumenthal\")"
   ]
  },
  {
   "cell_type": "code",
   "execution_count": null,
   "id": "21cd3ebd",
   "metadata": {},
   "outputs": [],
   "source": [
    "getUserTweetDetails(\"Tweets-2020.csv\",\"SenatorRisch\")\n",
    "tweetAmounts(\"Tweets-2020.csv\", \"SenatorRisch\")"
   ]
  },
  {
   "cell_type": "code",
   "execution_count": null,
   "id": "20b6fe0b",
   "metadata": {},
   "outputs": [],
   "source": [
    "getUserTweetDetails(\"Tweets-2020.csv\",\"ChrisMurphyCT\")\n",
    "tweetAmounts(\"Tweets-2020.csv\", \"ChrisMurphyCT\")"
   ]
  },
  {
   "cell_type": "code",
   "execution_count": null,
   "id": "063365d2",
   "metadata": {},
   "outputs": [],
   "source": [
    "getUserTweetDetails(\"Tweets-2020.csv\",\"maziehirono\")\n",
    "tweetAmounts(\"Tweets-2020.csv\", \"maziehirono\")"
   ]
  },
  {
   "cell_type": "code",
   "execution_count": null,
   "id": "9828f2b9",
   "metadata": {},
   "outputs": [],
   "source": [
    "getPartyUserTwitterUsage(\"Tweets-2020.csv\")"
   ]
  },
  {
   "cell_type": "code",
   "execution_count": null,
   "id": "84da7924",
   "metadata": {},
   "outputs": [],
   "source": []
  }
 ],
 "metadata": {
  "kernelspec": {
   "display_name": "Python 3 (ipykernel)",
   "language": "python",
   "name": "python3"
  },
  "language_info": {
   "codemirror_mode": {
    "name": "ipython",
    "version": 3
   },
   "file_extension": ".py",
   "mimetype": "text/x-python",
   "name": "python",
   "nbconvert_exporter": "python",
   "pygments_lexer": "ipython3",
   "version": "3.9.17"
  }
 },
 "nbformat": 4,
 "nbformat_minor": 5
}
